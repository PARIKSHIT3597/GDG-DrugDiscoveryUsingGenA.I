{
 "cells": [
  {
   "cell_type": "markdown",
   "metadata": {
    "id": "QQHZHevuXdEy"
   },
   "source": [
    "# **QSAR Model Building of Acetylcholinesterase Inhibitors**\n",
    "\n",
    "Chanin Nantasenamat\n",
    "\n",
    "*Data Professor YouTube channel, http://youtube.com/dataprofessor*"
   ]
  },
  {
   "cell_type": "markdown",
   "metadata": {
    "id": "g1qtHa0zXfWM"
   },
   "source": [
    "# Read in data"
   ]
  },
  {
   "cell_type": "code",
   "execution_count": 1,
   "metadata": {
    "id": "9MdfbvFKXtXq"
   },
   "outputs": [],
   "source": [
    "import pandas as pd"
   ]
  },
  {
   "cell_type": "code",
   "execution_count": 3,
   "metadata": {
    "colab": {
     "base_uri": "https://localhost:8080/",
     "height": 439
    },
    "id": "nerGP0fCXfgP",
    "outputId": "b639892c-8f7b-4b24-d02c-628c9f1a1460"
   },
   "outputs": [],
   "source": [
    "dataset_path = r\"C:\\Users\\Parikshit\\Desktop\\Final Project for Hack 2 Skill\\acetylcholinesterase_06_bioactivity_data_3class_pIC50_pubchem_fp.csv\"\n",
    "dataset = pd.read_csv(dataset_path)"
   ]
  },
  {
   "cell_type": "code",
   "execution_count": 5,
   "metadata": {
    "colab": {
     "base_uri": "https://localhost:8080/",
     "height": 439
    },
    "id": "tgFxx8m_YEUy",
    "outputId": "47903560-3aa4-497f-85b4-27b1361b200a"
   },
   "outputs": [
    {
     "data": {
      "text/html": [
       "<div>\n",
       "<style scoped>\n",
       "    .dataframe tbody tr th:only-of-type {\n",
       "        vertical-align: middle;\n",
       "    }\n",
       "\n",
       "    .dataframe tbody tr th {\n",
       "        vertical-align: top;\n",
       "    }\n",
       "\n",
       "    .dataframe thead th {\n",
       "        text-align: right;\n",
       "    }\n",
       "</style>\n",
       "<table border=\"1\" class=\"dataframe\">\n",
       "  <thead>\n",
       "    <tr style=\"text-align: right;\">\n",
       "      <th></th>\n",
       "      <th>PubchemFP0</th>\n",
       "      <th>PubchemFP1</th>\n",
       "      <th>PubchemFP2</th>\n",
       "      <th>PubchemFP3</th>\n",
       "      <th>PubchemFP4</th>\n",
       "      <th>PubchemFP5</th>\n",
       "      <th>PubchemFP6</th>\n",
       "      <th>PubchemFP7</th>\n",
       "      <th>PubchemFP8</th>\n",
       "      <th>PubchemFP9</th>\n",
       "      <th>...</th>\n",
       "      <th>PubchemFP871</th>\n",
       "      <th>PubchemFP872</th>\n",
       "      <th>PubchemFP873</th>\n",
       "      <th>PubchemFP874</th>\n",
       "      <th>PubchemFP875</th>\n",
       "      <th>PubchemFP876</th>\n",
       "      <th>PubchemFP877</th>\n",
       "      <th>PubchemFP878</th>\n",
       "      <th>PubchemFP879</th>\n",
       "      <th>PubchemFP880</th>\n",
       "    </tr>\n",
       "  </thead>\n",
       "  <tbody>\n",
       "    <tr>\n",
       "      <th>0</th>\n",
       "      <td>1.0</td>\n",
       "      <td>1.0</td>\n",
       "      <td>0.0</td>\n",
       "      <td>0.0</td>\n",
       "      <td>0.0</td>\n",
       "      <td>0.0</td>\n",
       "      <td>0.0</td>\n",
       "      <td>0.0</td>\n",
       "      <td>0.0</td>\n",
       "      <td>1.0</td>\n",
       "      <td>...</td>\n",
       "      <td>0.0</td>\n",
       "      <td>0.0</td>\n",
       "      <td>0.0</td>\n",
       "      <td>0.0</td>\n",
       "      <td>0.0</td>\n",
       "      <td>0.0</td>\n",
       "      <td>0.0</td>\n",
       "      <td>0.0</td>\n",
       "      <td>0.0</td>\n",
       "      <td>0.0</td>\n",
       "    </tr>\n",
       "    <tr>\n",
       "      <th>1</th>\n",
       "      <td>1.0</td>\n",
       "      <td>1.0</td>\n",
       "      <td>0.0</td>\n",
       "      <td>0.0</td>\n",
       "      <td>0.0</td>\n",
       "      <td>0.0</td>\n",
       "      <td>0.0</td>\n",
       "      <td>0.0</td>\n",
       "      <td>0.0</td>\n",
       "      <td>1.0</td>\n",
       "      <td>...</td>\n",
       "      <td>0.0</td>\n",
       "      <td>0.0</td>\n",
       "      <td>0.0</td>\n",
       "      <td>0.0</td>\n",
       "      <td>0.0</td>\n",
       "      <td>0.0</td>\n",
       "      <td>0.0</td>\n",
       "      <td>0.0</td>\n",
       "      <td>0.0</td>\n",
       "      <td>0.0</td>\n",
       "    </tr>\n",
       "    <tr>\n",
       "      <th>2</th>\n",
       "      <td>1.0</td>\n",
       "      <td>1.0</td>\n",
       "      <td>1.0</td>\n",
       "      <td>0.0</td>\n",
       "      <td>0.0</td>\n",
       "      <td>0.0</td>\n",
       "      <td>0.0</td>\n",
       "      <td>0.0</td>\n",
       "      <td>0.0</td>\n",
       "      <td>1.0</td>\n",
       "      <td>...</td>\n",
       "      <td>0.0</td>\n",
       "      <td>0.0</td>\n",
       "      <td>0.0</td>\n",
       "      <td>0.0</td>\n",
       "      <td>0.0</td>\n",
       "      <td>0.0</td>\n",
       "      <td>0.0</td>\n",
       "      <td>0.0</td>\n",
       "      <td>0.0</td>\n",
       "      <td>0.0</td>\n",
       "    </tr>\n",
       "    <tr>\n",
       "      <th>3</th>\n",
       "      <td>1.0</td>\n",
       "      <td>1.0</td>\n",
       "      <td>0.0</td>\n",
       "      <td>0.0</td>\n",
       "      <td>0.0</td>\n",
       "      <td>0.0</td>\n",
       "      <td>0.0</td>\n",
       "      <td>0.0</td>\n",
       "      <td>0.0</td>\n",
       "      <td>1.0</td>\n",
       "      <td>...</td>\n",
       "      <td>0.0</td>\n",
       "      <td>0.0</td>\n",
       "      <td>0.0</td>\n",
       "      <td>0.0</td>\n",
       "      <td>0.0</td>\n",
       "      <td>0.0</td>\n",
       "      <td>0.0</td>\n",
       "      <td>0.0</td>\n",
       "      <td>0.0</td>\n",
       "      <td>0.0</td>\n",
       "    </tr>\n",
       "    <tr>\n",
       "      <th>4</th>\n",
       "      <td>1.0</td>\n",
       "      <td>1.0</td>\n",
       "      <td>1.0</td>\n",
       "      <td>0.0</td>\n",
       "      <td>0.0</td>\n",
       "      <td>0.0</td>\n",
       "      <td>0.0</td>\n",
       "      <td>0.0</td>\n",
       "      <td>0.0</td>\n",
       "      <td>1.0</td>\n",
       "      <td>...</td>\n",
       "      <td>0.0</td>\n",
       "      <td>0.0</td>\n",
       "      <td>0.0</td>\n",
       "      <td>0.0</td>\n",
       "      <td>0.0</td>\n",
       "      <td>0.0</td>\n",
       "      <td>0.0</td>\n",
       "      <td>0.0</td>\n",
       "      <td>0.0</td>\n",
       "      <td>0.0</td>\n",
       "    </tr>\n",
       "    <tr>\n",
       "      <th>...</th>\n",
       "      <td>...</td>\n",
       "      <td>...</td>\n",
       "      <td>...</td>\n",
       "      <td>...</td>\n",
       "      <td>...</td>\n",
       "      <td>...</td>\n",
       "      <td>...</td>\n",
       "      <td>...</td>\n",
       "      <td>...</td>\n",
       "      <td>...</td>\n",
       "      <td>...</td>\n",
       "      <td>...</td>\n",
       "      <td>...</td>\n",
       "      <td>...</td>\n",
       "      <td>...</td>\n",
       "      <td>...</td>\n",
       "      <td>...</td>\n",
       "      <td>...</td>\n",
       "      <td>...</td>\n",
       "      <td>...</td>\n",
       "      <td>...</td>\n",
       "    </tr>\n",
       "    <tr>\n",
       "      <th>6637</th>\n",
       "      <td>1.0</td>\n",
       "      <td>1.0</td>\n",
       "      <td>1.0</td>\n",
       "      <td>0.0</td>\n",
       "      <td>0.0</td>\n",
       "      <td>0.0</td>\n",
       "      <td>0.0</td>\n",
       "      <td>0.0</td>\n",
       "      <td>0.0</td>\n",
       "      <td>1.0</td>\n",
       "      <td>...</td>\n",
       "      <td>0.0</td>\n",
       "      <td>0.0</td>\n",
       "      <td>0.0</td>\n",
       "      <td>0.0</td>\n",
       "      <td>0.0</td>\n",
       "      <td>0.0</td>\n",
       "      <td>0.0</td>\n",
       "      <td>0.0</td>\n",
       "      <td>0.0</td>\n",
       "      <td>0.0</td>\n",
       "    </tr>\n",
       "    <tr>\n",
       "      <th>6638</th>\n",
       "      <td>1.0</td>\n",
       "      <td>1.0</td>\n",
       "      <td>0.0</td>\n",
       "      <td>0.0</td>\n",
       "      <td>0.0</td>\n",
       "      <td>0.0</td>\n",
       "      <td>0.0</td>\n",
       "      <td>0.0</td>\n",
       "      <td>0.0</td>\n",
       "      <td>1.0</td>\n",
       "      <td>...</td>\n",
       "      <td>0.0</td>\n",
       "      <td>0.0</td>\n",
       "      <td>0.0</td>\n",
       "      <td>0.0</td>\n",
       "      <td>0.0</td>\n",
       "      <td>0.0</td>\n",
       "      <td>0.0</td>\n",
       "      <td>0.0</td>\n",
       "      <td>0.0</td>\n",
       "      <td>0.0</td>\n",
       "    </tr>\n",
       "    <tr>\n",
       "      <th>6639</th>\n",
       "      <td>1.0</td>\n",
       "      <td>1.0</td>\n",
       "      <td>1.0</td>\n",
       "      <td>0.0</td>\n",
       "      <td>0.0</td>\n",
       "      <td>0.0</td>\n",
       "      <td>0.0</td>\n",
       "      <td>0.0</td>\n",
       "      <td>0.0</td>\n",
       "      <td>1.0</td>\n",
       "      <td>...</td>\n",
       "      <td>0.0</td>\n",
       "      <td>0.0</td>\n",
       "      <td>0.0</td>\n",
       "      <td>0.0</td>\n",
       "      <td>0.0</td>\n",
       "      <td>0.0</td>\n",
       "      <td>0.0</td>\n",
       "      <td>0.0</td>\n",
       "      <td>0.0</td>\n",
       "      <td>0.0</td>\n",
       "    </tr>\n",
       "    <tr>\n",
       "      <th>6640</th>\n",
       "      <td>1.0</td>\n",
       "      <td>1.0</td>\n",
       "      <td>1.0</td>\n",
       "      <td>0.0</td>\n",
       "      <td>0.0</td>\n",
       "      <td>0.0</td>\n",
       "      <td>0.0</td>\n",
       "      <td>0.0</td>\n",
       "      <td>0.0</td>\n",
       "      <td>1.0</td>\n",
       "      <td>...</td>\n",
       "      <td>0.0</td>\n",
       "      <td>0.0</td>\n",
       "      <td>0.0</td>\n",
       "      <td>0.0</td>\n",
       "      <td>0.0</td>\n",
       "      <td>0.0</td>\n",
       "      <td>0.0</td>\n",
       "      <td>0.0</td>\n",
       "      <td>0.0</td>\n",
       "      <td>0.0</td>\n",
       "    </tr>\n",
       "    <tr>\n",
       "      <th>6641</th>\n",
       "      <td>1.0</td>\n",
       "      <td>1.0</td>\n",
       "      <td>1.0</td>\n",
       "      <td>0.0</td>\n",
       "      <td>0.0</td>\n",
       "      <td>0.0</td>\n",
       "      <td>0.0</td>\n",
       "      <td>0.0</td>\n",
       "      <td>0.0</td>\n",
       "      <td>1.0</td>\n",
       "      <td>...</td>\n",
       "      <td>0.0</td>\n",
       "      <td>0.0</td>\n",
       "      <td>0.0</td>\n",
       "      <td>0.0</td>\n",
       "      <td>0.0</td>\n",
       "      <td>0.0</td>\n",
       "      <td>0.0</td>\n",
       "      <td>0.0</td>\n",
       "      <td>0.0</td>\n",
       "      <td>0.0</td>\n",
       "    </tr>\n",
       "  </tbody>\n",
       "</table>\n",
       "<p>6642 rows × 881 columns</p>\n",
       "</div>"
      ],
      "text/plain": [
       "      PubchemFP0  PubchemFP1  PubchemFP2  PubchemFP3  PubchemFP4  PubchemFP5  \\\n",
       "0            1.0         1.0         0.0         0.0         0.0         0.0   \n",
       "1            1.0         1.0         0.0         0.0         0.0         0.0   \n",
       "2            1.0         1.0         1.0         0.0         0.0         0.0   \n",
       "3            1.0         1.0         0.0         0.0         0.0         0.0   \n",
       "4            1.0         1.0         1.0         0.0         0.0         0.0   \n",
       "...          ...         ...         ...         ...         ...         ...   \n",
       "6637         1.0         1.0         1.0         0.0         0.0         0.0   \n",
       "6638         1.0         1.0         0.0         0.0         0.0         0.0   \n",
       "6639         1.0         1.0         1.0         0.0         0.0         0.0   \n",
       "6640         1.0         1.0         1.0         0.0         0.0         0.0   \n",
       "6641         1.0         1.0         1.0         0.0         0.0         0.0   \n",
       "\n",
       "      PubchemFP6  PubchemFP7  PubchemFP8  PubchemFP9  ...  PubchemFP871  \\\n",
       "0            0.0         0.0         0.0         1.0  ...           0.0   \n",
       "1            0.0         0.0         0.0         1.0  ...           0.0   \n",
       "2            0.0         0.0         0.0         1.0  ...           0.0   \n",
       "3            0.0         0.0         0.0         1.0  ...           0.0   \n",
       "4            0.0         0.0         0.0         1.0  ...           0.0   \n",
       "...          ...         ...         ...         ...  ...           ...   \n",
       "6637         0.0         0.0         0.0         1.0  ...           0.0   \n",
       "6638         0.0         0.0         0.0         1.0  ...           0.0   \n",
       "6639         0.0         0.0         0.0         1.0  ...           0.0   \n",
       "6640         0.0         0.0         0.0         1.0  ...           0.0   \n",
       "6641         0.0         0.0         0.0         1.0  ...           0.0   \n",
       "\n",
       "      PubchemFP872  PubchemFP873  PubchemFP874  PubchemFP875  PubchemFP876  \\\n",
       "0              0.0           0.0           0.0           0.0           0.0   \n",
       "1              0.0           0.0           0.0           0.0           0.0   \n",
       "2              0.0           0.0           0.0           0.0           0.0   \n",
       "3              0.0           0.0           0.0           0.0           0.0   \n",
       "4              0.0           0.0           0.0           0.0           0.0   \n",
       "...            ...           ...           ...           ...           ...   \n",
       "6637           0.0           0.0           0.0           0.0           0.0   \n",
       "6638           0.0           0.0           0.0           0.0           0.0   \n",
       "6639           0.0           0.0           0.0           0.0           0.0   \n",
       "6640           0.0           0.0           0.0           0.0           0.0   \n",
       "6641           0.0           0.0           0.0           0.0           0.0   \n",
       "\n",
       "      PubchemFP877  PubchemFP878  PubchemFP879  PubchemFP880  \n",
       "0              0.0           0.0           0.0           0.0  \n",
       "1              0.0           0.0           0.0           0.0  \n",
       "2              0.0           0.0           0.0           0.0  \n",
       "3              0.0           0.0           0.0           0.0  \n",
       "4              0.0           0.0           0.0           0.0  \n",
       "...            ...           ...           ...           ...  \n",
       "6637           0.0           0.0           0.0           0.0  \n",
       "6638           0.0           0.0           0.0           0.0  \n",
       "6639           0.0           0.0           0.0           0.0  \n",
       "6640           0.0           0.0           0.0           0.0  \n",
       "6641           0.0           0.0           0.0           0.0  \n",
       "\n",
       "[6642 rows x 881 columns]"
      ]
     },
     "execution_count": 5,
     "metadata": {},
     "output_type": "execute_result"
    }
   ],
   "source": [
    "X = dataset.drop(['pIC50'], axis=1)\n",
    "X"
   ]
  },
  {
   "cell_type": "code",
   "execution_count": 7,
   "metadata": {
    "colab": {
     "base_uri": "https://localhost:8080/"
    },
    "id": "JDwxgKHqYmD4",
    "outputId": "472cd19d-7dab-4f16-b03d-fab52d3fc782"
   },
   "outputs": [
    {
     "data": {
      "text/plain": [
       "0       6.124939\n",
       "1       7.000000\n",
       "2       4.301030\n",
       "3       6.522879\n",
       "4       6.096910\n",
       "          ...   \n",
       "6637    4.337242\n",
       "6638    4.416688\n",
       "6639    5.767004\n",
       "6640    5.000000\n",
       "6641    5.000000\n",
       "Name: pIC50, Length: 6642, dtype: float64"
      ]
     },
     "execution_count": 7,
     "metadata": {},
     "output_type": "execute_result"
    }
   ],
   "source": [
    "Y = dataset.iloc[:,-1]\n",
    "Y"
   ]
  },
  {
   "cell_type": "markdown",
   "metadata": {
    "id": "AQ9E0xUY_o_M"
   },
   "source": [
    "# Remove low variance features"
   ]
  },
  {
   "cell_type": "code",
   "execution_count": 10,
   "metadata": {
    "colab": {
     "base_uri": "https://localhost:8080/"
    },
    "id": "Qkgj-lsG_wOJ",
    "outputId": "d3d11b21-fdf3-4cfb-e0c8-0f2b5a1d779b"
   },
   "outputs": [
    {
     "data": {
      "text/html": [
       "<div>\n",
       "<style scoped>\n",
       "    .dataframe tbody tr th:only-of-type {\n",
       "        vertical-align: middle;\n",
       "    }\n",
       "\n",
       "    .dataframe tbody tr th {\n",
       "        vertical-align: top;\n",
       "    }\n",
       "\n",
       "    .dataframe thead th {\n",
       "        text-align: right;\n",
       "    }\n",
       "</style>\n",
       "<table border=\"1\" class=\"dataframe\">\n",
       "  <thead>\n",
       "    <tr style=\"text-align: right;\">\n",
       "      <th></th>\n",
       "      <th>PubchemFP3</th>\n",
       "      <th>PubchemFP12</th>\n",
       "      <th>PubchemFP13</th>\n",
       "      <th>PubchemFP15</th>\n",
       "      <th>PubchemFP16</th>\n",
       "      <th>PubchemFP19</th>\n",
       "      <th>PubchemFP20</th>\n",
       "      <th>PubchemFP33</th>\n",
       "      <th>PubchemFP37</th>\n",
       "      <th>PubchemFP143</th>\n",
       "      <th>...</th>\n",
       "      <th>PubchemFP761</th>\n",
       "      <th>PubchemFP776</th>\n",
       "      <th>PubchemFP777</th>\n",
       "      <th>PubchemFP779</th>\n",
       "      <th>PubchemFP797</th>\n",
       "      <th>PubchemFP798</th>\n",
       "      <th>PubchemFP818</th>\n",
       "      <th>PubchemFP819</th>\n",
       "      <th>PubchemFP821</th>\n",
       "      <th>PubchemFP824</th>\n",
       "    </tr>\n",
       "  </thead>\n",
       "  <tbody>\n",
       "    <tr>\n",
       "      <th>0</th>\n",
       "      <td>0.0</td>\n",
       "      <td>0.0</td>\n",
       "      <td>0.0</td>\n",
       "      <td>1.0</td>\n",
       "      <td>1.0</td>\n",
       "      <td>0.0</td>\n",
       "      <td>0.0</td>\n",
       "      <td>1.0</td>\n",
       "      <td>1.0</td>\n",
       "      <td>1.0</td>\n",
       "      <td>...</td>\n",
       "      <td>0.0</td>\n",
       "      <td>0.0</td>\n",
       "      <td>0.0</td>\n",
       "      <td>0.0</td>\n",
       "      <td>0.0</td>\n",
       "      <td>0.0</td>\n",
       "      <td>0.0</td>\n",
       "      <td>0.0</td>\n",
       "      <td>0.0</td>\n",
       "      <td>0.0</td>\n",
       "    </tr>\n",
       "    <tr>\n",
       "      <th>1</th>\n",
       "      <td>0.0</td>\n",
       "      <td>0.0</td>\n",
       "      <td>0.0</td>\n",
       "      <td>1.0</td>\n",
       "      <td>1.0</td>\n",
       "      <td>1.0</td>\n",
       "      <td>0.0</td>\n",
       "      <td>1.0</td>\n",
       "      <td>0.0</td>\n",
       "      <td>1.0</td>\n",
       "      <td>...</td>\n",
       "      <td>0.0</td>\n",
       "      <td>0.0</td>\n",
       "      <td>1.0</td>\n",
       "      <td>0.0</td>\n",
       "      <td>0.0</td>\n",
       "      <td>0.0</td>\n",
       "      <td>0.0</td>\n",
       "      <td>0.0</td>\n",
       "      <td>0.0</td>\n",
       "      <td>0.0</td>\n",
       "    </tr>\n",
       "    <tr>\n",
       "      <th>2</th>\n",
       "      <td>0.0</td>\n",
       "      <td>1.0</td>\n",
       "      <td>0.0</td>\n",
       "      <td>1.0</td>\n",
       "      <td>1.0</td>\n",
       "      <td>0.0</td>\n",
       "      <td>0.0</td>\n",
       "      <td>1.0</td>\n",
       "      <td>1.0</td>\n",
       "      <td>1.0</td>\n",
       "      <td>...</td>\n",
       "      <td>0.0</td>\n",
       "      <td>0.0</td>\n",
       "      <td>0.0</td>\n",
       "      <td>0.0</td>\n",
       "      <td>0.0</td>\n",
       "      <td>0.0</td>\n",
       "      <td>0.0</td>\n",
       "      <td>0.0</td>\n",
       "      <td>0.0</td>\n",
       "      <td>0.0</td>\n",
       "    </tr>\n",
       "    <tr>\n",
       "      <th>3</th>\n",
       "      <td>0.0</td>\n",
       "      <td>1.0</td>\n",
       "      <td>0.0</td>\n",
       "      <td>1.0</td>\n",
       "      <td>1.0</td>\n",
       "      <td>0.0</td>\n",
       "      <td>0.0</td>\n",
       "      <td>1.0</td>\n",
       "      <td>1.0</td>\n",
       "      <td>1.0</td>\n",
       "      <td>...</td>\n",
       "      <td>0.0</td>\n",
       "      <td>0.0</td>\n",
       "      <td>0.0</td>\n",
       "      <td>0.0</td>\n",
       "      <td>0.0</td>\n",
       "      <td>0.0</td>\n",
       "      <td>0.0</td>\n",
       "      <td>0.0</td>\n",
       "      <td>0.0</td>\n",
       "      <td>0.0</td>\n",
       "    </tr>\n",
       "    <tr>\n",
       "      <th>4</th>\n",
       "      <td>0.0</td>\n",
       "      <td>1.0</td>\n",
       "      <td>0.0</td>\n",
       "      <td>1.0</td>\n",
       "      <td>1.0</td>\n",
       "      <td>0.0</td>\n",
       "      <td>0.0</td>\n",
       "      <td>1.0</td>\n",
       "      <td>1.0</td>\n",
       "      <td>1.0</td>\n",
       "      <td>...</td>\n",
       "      <td>0.0</td>\n",
       "      <td>0.0</td>\n",
       "      <td>0.0</td>\n",
       "      <td>0.0</td>\n",
       "      <td>0.0</td>\n",
       "      <td>0.0</td>\n",
       "      <td>0.0</td>\n",
       "      <td>0.0</td>\n",
       "      <td>0.0</td>\n",
       "      <td>0.0</td>\n",
       "    </tr>\n",
       "    <tr>\n",
       "      <th>...</th>\n",
       "      <td>...</td>\n",
       "      <td>...</td>\n",
       "      <td>...</td>\n",
       "      <td>...</td>\n",
       "      <td>...</td>\n",
       "      <td>...</td>\n",
       "      <td>...</td>\n",
       "      <td>...</td>\n",
       "      <td>...</td>\n",
       "      <td>...</td>\n",
       "      <td>...</td>\n",
       "      <td>...</td>\n",
       "      <td>...</td>\n",
       "      <td>...</td>\n",
       "      <td>...</td>\n",
       "      <td>...</td>\n",
       "      <td>...</td>\n",
       "      <td>...</td>\n",
       "      <td>...</td>\n",
       "      <td>...</td>\n",
       "      <td>...</td>\n",
       "    </tr>\n",
       "    <tr>\n",
       "      <th>6637</th>\n",
       "      <td>0.0</td>\n",
       "      <td>1.0</td>\n",
       "      <td>0.0</td>\n",
       "      <td>0.0</td>\n",
       "      <td>0.0</td>\n",
       "      <td>1.0</td>\n",
       "      <td>1.0</td>\n",
       "      <td>0.0</td>\n",
       "      <td>0.0</td>\n",
       "      <td>0.0</td>\n",
       "      <td>...</td>\n",
       "      <td>1.0</td>\n",
       "      <td>0.0</td>\n",
       "      <td>1.0</td>\n",
       "      <td>0.0</td>\n",
       "      <td>0.0</td>\n",
       "      <td>1.0</td>\n",
       "      <td>1.0</td>\n",
       "      <td>1.0</td>\n",
       "      <td>0.0</td>\n",
       "      <td>1.0</td>\n",
       "    </tr>\n",
       "    <tr>\n",
       "      <th>6638</th>\n",
       "      <td>0.0</td>\n",
       "      <td>1.0</td>\n",
       "      <td>0.0</td>\n",
       "      <td>0.0</td>\n",
       "      <td>0.0</td>\n",
       "      <td>1.0</td>\n",
       "      <td>1.0</td>\n",
       "      <td>0.0</td>\n",
       "      <td>0.0</td>\n",
       "      <td>0.0</td>\n",
       "      <td>...</td>\n",
       "      <td>1.0</td>\n",
       "      <td>0.0</td>\n",
       "      <td>1.0</td>\n",
       "      <td>0.0</td>\n",
       "      <td>0.0</td>\n",
       "      <td>1.0</td>\n",
       "      <td>1.0</td>\n",
       "      <td>0.0</td>\n",
       "      <td>1.0</td>\n",
       "      <td>1.0</td>\n",
       "    </tr>\n",
       "    <tr>\n",
       "      <th>6639</th>\n",
       "      <td>0.0</td>\n",
       "      <td>1.0</td>\n",
       "      <td>0.0</td>\n",
       "      <td>1.0</td>\n",
       "      <td>1.0</td>\n",
       "      <td>0.0</td>\n",
       "      <td>0.0</td>\n",
       "      <td>0.0</td>\n",
       "      <td>0.0</td>\n",
       "      <td>1.0</td>\n",
       "      <td>...</td>\n",
       "      <td>0.0</td>\n",
       "      <td>0.0</td>\n",
       "      <td>0.0</td>\n",
       "      <td>1.0</td>\n",
       "      <td>0.0</td>\n",
       "      <td>0.0</td>\n",
       "      <td>0.0</td>\n",
       "      <td>0.0</td>\n",
       "      <td>0.0</td>\n",
       "      <td>0.0</td>\n",
       "    </tr>\n",
       "    <tr>\n",
       "      <th>6640</th>\n",
       "      <td>0.0</td>\n",
       "      <td>1.0</td>\n",
       "      <td>0.0</td>\n",
       "      <td>1.0</td>\n",
       "      <td>1.0</td>\n",
       "      <td>1.0</td>\n",
       "      <td>0.0</td>\n",
       "      <td>0.0</td>\n",
       "      <td>0.0</td>\n",
       "      <td>1.0</td>\n",
       "      <td>...</td>\n",
       "      <td>0.0</td>\n",
       "      <td>0.0</td>\n",
       "      <td>0.0</td>\n",
       "      <td>1.0</td>\n",
       "      <td>0.0</td>\n",
       "      <td>0.0</td>\n",
       "      <td>0.0</td>\n",
       "      <td>0.0</td>\n",
       "      <td>0.0</td>\n",
       "      <td>0.0</td>\n",
       "    </tr>\n",
       "    <tr>\n",
       "      <th>6641</th>\n",
       "      <td>0.0</td>\n",
       "      <td>1.0</td>\n",
       "      <td>0.0</td>\n",
       "      <td>1.0</td>\n",
       "      <td>1.0</td>\n",
       "      <td>0.0</td>\n",
       "      <td>0.0</td>\n",
       "      <td>0.0</td>\n",
       "      <td>0.0</td>\n",
       "      <td>1.0</td>\n",
       "      <td>...</td>\n",
       "      <td>0.0</td>\n",
       "      <td>0.0</td>\n",
       "      <td>0.0</td>\n",
       "      <td>1.0</td>\n",
       "      <td>0.0</td>\n",
       "      <td>0.0</td>\n",
       "      <td>0.0</td>\n",
       "      <td>0.0</td>\n",
       "      <td>0.0</td>\n",
       "      <td>0.0</td>\n",
       "    </tr>\n",
       "  </tbody>\n",
       "</table>\n",
       "<p>6642 rows × 220 columns</p>\n",
       "</div>"
      ],
      "text/plain": [
       "      PubchemFP3  PubchemFP12  PubchemFP13  PubchemFP15  PubchemFP16  \\\n",
       "0            0.0          0.0          0.0          1.0          1.0   \n",
       "1            0.0          0.0          0.0          1.0          1.0   \n",
       "2            0.0          1.0          0.0          1.0          1.0   \n",
       "3            0.0          1.0          0.0          1.0          1.0   \n",
       "4            0.0          1.0          0.0          1.0          1.0   \n",
       "...          ...          ...          ...          ...          ...   \n",
       "6637         0.0          1.0          0.0          0.0          0.0   \n",
       "6638         0.0          1.0          0.0          0.0          0.0   \n",
       "6639         0.0          1.0          0.0          1.0          1.0   \n",
       "6640         0.0          1.0          0.0          1.0          1.0   \n",
       "6641         0.0          1.0          0.0          1.0          1.0   \n",
       "\n",
       "      PubchemFP19  PubchemFP20  PubchemFP33  PubchemFP37  PubchemFP143  ...  \\\n",
       "0             0.0          0.0          1.0          1.0           1.0  ...   \n",
       "1             1.0          0.0          1.0          0.0           1.0  ...   \n",
       "2             0.0          0.0          1.0          1.0           1.0  ...   \n",
       "3             0.0          0.0          1.0          1.0           1.0  ...   \n",
       "4             0.0          0.0          1.0          1.0           1.0  ...   \n",
       "...           ...          ...          ...          ...           ...  ...   \n",
       "6637          1.0          1.0          0.0          0.0           0.0  ...   \n",
       "6638          1.0          1.0          0.0          0.0           0.0  ...   \n",
       "6639          0.0          0.0          0.0          0.0           1.0  ...   \n",
       "6640          1.0          0.0          0.0          0.0           1.0  ...   \n",
       "6641          0.0          0.0          0.0          0.0           1.0  ...   \n",
       "\n",
       "      PubchemFP761  PubchemFP776  PubchemFP777  PubchemFP779  PubchemFP797  \\\n",
       "0              0.0           0.0           0.0           0.0           0.0   \n",
       "1              0.0           0.0           1.0           0.0           0.0   \n",
       "2              0.0           0.0           0.0           0.0           0.0   \n",
       "3              0.0           0.0           0.0           0.0           0.0   \n",
       "4              0.0           0.0           0.0           0.0           0.0   \n",
       "...            ...           ...           ...           ...           ...   \n",
       "6637           1.0           0.0           1.0           0.0           0.0   \n",
       "6638           1.0           0.0           1.0           0.0           0.0   \n",
       "6639           0.0           0.0           0.0           1.0           0.0   \n",
       "6640           0.0           0.0           0.0           1.0           0.0   \n",
       "6641           0.0           0.0           0.0           1.0           0.0   \n",
       "\n",
       "      PubchemFP798  PubchemFP818  PubchemFP819  PubchemFP821  PubchemFP824  \n",
       "0              0.0           0.0           0.0           0.0           0.0  \n",
       "1              0.0           0.0           0.0           0.0           0.0  \n",
       "2              0.0           0.0           0.0           0.0           0.0  \n",
       "3              0.0           0.0           0.0           0.0           0.0  \n",
       "4              0.0           0.0           0.0           0.0           0.0  \n",
       "...            ...           ...           ...           ...           ...  \n",
       "6637           1.0           1.0           1.0           0.0           1.0  \n",
       "6638           1.0           1.0           0.0           1.0           1.0  \n",
       "6639           0.0           0.0           0.0           0.0           0.0  \n",
       "6640           0.0           0.0           0.0           0.0           0.0  \n",
       "6641           0.0           0.0           0.0           0.0           0.0  \n",
       "\n",
       "[6642 rows x 220 columns]"
      ]
     },
     "execution_count": 10,
     "metadata": {},
     "output_type": "execute_result"
    }
   ],
   "source": [
    "from sklearn.feature_selection import VarianceThreshold\n",
    "\n",
    "def remove_low_variance(input_data, threshold=0.1):\n",
    "    selection = VarianceThreshold(threshold)\n",
    "    selection.fit(input_data)\n",
    "    return input_data[input_data.columns[selection.get_support(indices=True)]]\n",
    "\n",
    "X = remove_low_variance(X, threshold=0.1)\n",
    "X"
   ]
  },
  {
   "cell_type": "code",
   "execution_count": 11,
   "metadata": {},
   "outputs": [],
   "source": [
    "X.to_csv('descriptor_list.csv', index = False)"
   ]
  },
  {
   "cell_type": "code",
   "execution_count": 13,
   "metadata": {},
   "outputs": [],
   "source": [
    "# In the app, use the following to get this same descriptor list\n",
    "# of 218 variables from the initial set of 881 variables\n",
    "# Xlist = list(pd.read_csv('descriptor_list.csv').columns)\n",
    "# X[Xlist]"
   ]
  },
  {
   "cell_type": "markdown",
   "metadata": {
    "id": "LNohCdqQY5VZ"
   },
   "source": [
    "# Random Forest Regression Model"
   ]
  },
  {
   "cell_type": "code",
   "execution_count": 17,
   "metadata": {
    "id": "EanoyG2eX9cV"
   },
   "outputs": [],
   "source": [
    "from sklearn.ensemble import RandomForestRegressor\n",
    "from sklearn.metrics import mean_squared_error, r2_score"
   ]
  },
  {
   "cell_type": "code",
   "execution_count": 23,
   "metadata": {},
   "outputs": [],
   "source": [
    "from sklearn.impute import SimpleImputer\n",
    "\n",
    "imputer = SimpleImputer(strategy='mean')  # Use \"median\" or \"most_frequent\" if needed\n",
    "X = pd.DataFrame(imputer.fit_transform(X), columns=X.columns)\n"
   ]
  },
  {
   "cell_type": "code",
   "execution_count": 31,
   "metadata": {},
   "outputs": [],
   "source": [
    "import numpy as np\n",
    "Y = np.where(np.isnan(Y), np.nanmedian(Y), Y)  # Replace NaN with median\n",
    "Y = np.where(np.isinf(Y), np.nanmedian(Y), Y)  # Replace infinite values with median\n"
   ]
  },
  {
   "cell_type": "code",
   "execution_count": 33,
   "metadata": {
    "colab": {
     "base_uri": "https://localhost:8080/"
    },
    "id": "mLQJ2KLLY_9a",
    "outputId": "e0c22032-02af-40ca-c5c9-536982ec8627"
   },
   "outputs": [
    {
     "data": {
      "text/plain": [
       "0.8221791585972467"
      ]
     },
     "execution_count": 33,
     "metadata": {},
     "output_type": "execute_result"
    }
   ],
   "source": [
    "model = RandomForestRegressor(n_estimators=500, random_state=42)\n",
    "model.fit(X, Y)\n",
    "r2 = model.score(X, Y)\n",
    "r2"
   ]
  },
  {
   "cell_type": "markdown",
   "metadata": {
    "id": "F5f8KGWjZRSc"
   },
   "source": [
    "## Model Prediction"
   ]
  },
  {
   "cell_type": "code",
   "execution_count": 35,
   "metadata": {
    "colab": {
     "base_uri": "https://localhost:8080/"
    },
    "id": "MI3c8LB2ZCYW",
    "outputId": "1bc71664-c9f8-434f-a666-7f78a2d34da6"
   },
   "outputs": [
    {
     "data": {
      "text/plain": [
       "array([5.65648946, 6.33282629, 5.25684118, ..., 5.59662184, 5.26280846,\n",
       "       5.23214271])"
      ]
     },
     "execution_count": 35,
     "metadata": {},
     "output_type": "execute_result"
    }
   ],
   "source": [
    "Y_pred = model.predict(X)\n",
    "Y_pred"
   ]
  },
  {
   "cell_type": "markdown",
   "metadata": {
    "id": "fXv7bcolZqa-"
   },
   "source": [
    "## Model Performance"
   ]
  },
  {
   "cell_type": "code",
   "execution_count": 38,
   "metadata": {
    "colab": {
     "base_uri": "https://localhost:8080/"
    },
    "id": "6f13gYleZVKy",
    "outputId": "fd565d7f-26e4-45d1-89f7-55b37687746c"
   },
   "outputs": [
    {
     "name": "stdout",
     "output_type": "stream",
     "text": [
      "Mean squared error (MSE): 0.43\n",
      "Coefficient of determination (R^2): 0.82\n"
     ]
    }
   ],
   "source": [
    "print('Mean squared error (MSE): %.2f'\n",
    "      % mean_squared_error(Y, Y_pred))\n",
    "print('Coefficient of determination (R^2): %.2f'\n",
    "      % r2_score(Y, Y_pred))"
   ]
  },
  {
   "cell_type": "markdown",
   "metadata": {
    "id": "uWvxj1iSaL3n"
   },
   "source": [
    "# Data Visualization (Experimental vs Predicted pIC50 for Training Data)"
   ]
  },
  {
   "cell_type": "code",
   "execution_count": 41,
   "metadata": {
    "id": "iPcFF0MjZlh8"
   },
   "outputs": [],
   "source": [
    "import matplotlib.pyplot as plt\n",
    "import numpy as np"
   ]
  },
  {
   "cell_type": "code",
   "execution_count": 42,
   "metadata": {
    "colab": {
     "base_uri": "https://localhost:8080/",
     "height": 351
    },
    "id": "QRNyIlGAaQQI",
    "outputId": "1cf12d14-4ba5-49d4-e627-902a049fba2e"
   },
   "outputs": [
    {
     "data": {
      "text/plain": [
       "Text(0.5, 0, 'Experimental pIC50')"
      ]
     },
     "execution_count": 42,
     "metadata": {},
     "output_type": "execute_result"
    },
    {
     "data": {
      "image/png": "[encoded data removed]",
      "text/plain": [
       "<Figure size 500x500 with 1 Axes>"
      ]
     },
     "metadata": {},
     "output_type": "display_data"
    }
   ],
   "source": [
    "plt.figure(figsize=(5,5))\n",
    "plt.scatter(x=Y, y=Y_pred, c=\"#7CAE00\", alpha=0.3)\n",
    "\n",
    "# Add trendline\n",
    "# https://stackoverflow.com/questions/26447191/how-to-add-trendline-in-python-matplotlib-dot-scatter-graphs\n",
    "z = np.polyfit(Y, Y_pred, 1)\n",
    "p = np.poly1d(z)\n",
    "\n",
    "plt.plot(Y,p(Y),\"#F8766D\")\n",
    "plt.ylabel('Predicted pIC50')\n",
    "plt.xlabel('Experimental pIC50')"
   ]
  },
  {
   "cell_type": "markdown",
   "metadata": {
    "id": "YzKTmvZrbFVI"
   },
   "source": [
    "# Save Model as Pickle Object"
   ]
  },
  {
   "cell_type": "code",
   "execution_count": 46,
   "metadata": {
    "id": "DzjpPyVyb8XO"
   },
   "outputs": [],
   "source": [
    "import pickle"
   ]
  },
  {
   "cell_type": "code",
   "execution_count": 48,
   "metadata": {
    "id": "b2K9ajBaaYUk"
   },
   "outputs": [],
   "source": [
    "pickle.dump(model, open('acetylcholinesterase_model.pkl', 'wb'))"
   ]
  },
  {
   "cell_type": "code",
   "execution_count": 1,
   "metadata": {
    "id": "ef4fyvrEb-NC"
   },
   "outputs": [
    {
     "name": "stdout",
     "output_type": "stream",
     "text": [
      "1.2.2\n"
     ]
    }
   ],
   "source": [
    "import sklearn\n",
    "print(sklearn.__version__)\n"
   ]
  },
  {
   "cell_type": "code",
   "execution_count": 3,
   "metadata": {},
   "outputs": [
    {
     "name": "stdout",
     "output_type": "stream",
     "text": [
      "NumPy Version: 1.24.3\n",
      "Scikit-learn Version: 1.2.2\n"
     ]
    }
   ],
   "source": [
    "import numpy\n",
    "import sklearn\n",
    "\n",
    "print(\"NumPy Version:\", numpy.__version__)\n",
    "print(\"Scikit-learn Version:\", sklearn.__version__)\n"
   ]
  },
  {
   "cell_type": "code",
   "execution_count": 5,
   "metadata": {},
   "outputs": [
    {
     "name": "stdout",
     "output_type": "stream",
     "text": [
      "RandomForestRegressor(n_estimators=500, random_state=42)\n"
     ]
    }
   ],
   "source": [
    "import pickle\n",
    "\n",
    "model_path = r\"C:\\Users\\Parikshit\\Desktop\\Final Project for Hack 2 Skill\\bioactivity-prediction-app-main\\acetylcholinesterase_model.pkl\"\n",
    "\n",
    "with open(model_path, \"rb\") as f:\n",
    "    model_data = pickle.load(f)\n",
    "\n",
    "print(model_data)\n"
   ]
  },
  {
   "cell_type": "code",
   "execution_count": 7,
   "metadata": {},
   "outputs": [
    {
     "name": "stdout",
     "output_type": "stream",
     "text": [
      "Current Scikit-learn version: 1.2.2\n",
      "Scikit-learn version information is not stored in the model.\n"
     ]
    }
   ],
   "source": [
    "import pickle\n",
    "import sklearn\n",
    "\n",
    "model_path = r\"C:\\Users\\Parikshit\\Desktop\\Final Project for Hack 2 Skill\\bioactivity-prediction-app-main\\acetylcholinesterase_model.pkl\"\n",
    "\n",
    "with open(model_path, \"rb\") as f:\n",
    "    model = pickle.load(f)\n",
    "\n",
    "print(\"Current Scikit-learn version:\", sklearn.__version__)\n",
    "\n",
    "if hasattr(model, \"_sklearn_version\"):\n",
    "    print(\"Model was trained on Scikit-learn version:\", model._sklearn_version)\n",
    "else:\n",
    "    print(\"Scikit-learn version information is not stored in the model.\")\n"
   ]
  },
  {
   "cell_type": "code",
   "execution_count": null,
   "metadata": {},
   "outputs": [],
   "source": []
  }
 ],
 "metadata": {
  "colab": {
   "collapsed_sections": [],
   "name": "QSAR-web-app.ipynb",
   "provenance": []
  },
  "kernelspec": {
   "display_name": "Python 3 (ipykernel)",
   "language": "python",
   "name": "python3"
  },
  "language_info": {
   "codemirror_mode": {
    "name": "ipython",
    "version": 3
   },
   "file_extension": ".py",
   "mimetype": "text/x-python",
   "name": "python",
   "nbconvert_exporter": "python",
   "pygments_lexer": "ipython3",
   "version": "3.11.5"
  }
 },
 "nbformat": 4,
 "nbformat_minor": 4
}
